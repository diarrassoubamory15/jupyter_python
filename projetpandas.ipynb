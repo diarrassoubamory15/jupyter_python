{
 "cells": [
  {
   "cell_type": "code",
   "execution_count": 30,
   "metadata": {},
   "outputs": [
    {
     "name": "stdout",
     "output_type": "stream",
     "text": [
      "Series([], dtype: float64)\n"
     ]
    },
    {
     "name": "stderr",
     "output_type": "stream",
     "text": [
      "C:\\Users\\Diarrassouba\\anaconda3\\lib\\site-packages\\ipykernel_launcher.py:2: DeprecationWarning: The default dtype for empty Series will be 'object' instead of 'float64' in a future version. Specify a dtype explicitly to silence this warning.\n",
      "  \n"
     ]
    }
   ],
   "source": [
    "\n",
    "import pandas as ps\n",
    "s = ps.Series()\n",
    "print(s)"
   ]
  },
  {
   "cell_type": "code",
   "execution_count": 31,
   "metadata": {},
   "outputs": [
    {
     "name": "stdout",
     "output_type": "stream",
     "text": [
      "0    p\n",
      "1    y\n",
      "2    t\n",
      "3    h\n",
      "4    o\n",
      "5    n\n",
      "dtype: object\n"
     ]
    }
   ],
   "source": [
    "import numpy as np\n",
    "\n",
    "tab =np.array(['p','y','t','h','o','n'])\n",
    "s = ps.Series(tab)\n",
    "print(s)"
   ]
  },
  {
   "cell_type": "code",
   "execution_count": 32,
   "metadata": {},
   "outputs": [
    {
     "name": "stdout",
     "output_type": "stream",
     "text": [
      "y\n",
      "2    y\n",
      "dtype: object\n",
      "1    p\n",
      "4    h\n",
      "6    n\n",
      "dtype: object\n"
     ]
    }
   ],
   "source": [
    "tab =np.array(['p','y','t','h','o','n'])\n",
    "si = ps.Series(tab,index =[1,2,3,4,5,6])\n",
    "print(si[2])\n",
    "print(si[[2]])\n",
    "print(si[[1,4,6]])"
   ]
  },
  {
   "cell_type": "code",
   "execution_count": 33,
   "metadata": {},
   "outputs": [
    {
     "name": "stdout",
     "output_type": "stream",
     "text": [
      "1    p\n",
      "2    y\n",
      "3    t\n",
      "4    h\n",
      "5    o\n",
      "6    n\n",
      "dtype: object\n"
     ]
    }
   ],
   "source": [
    "a = ps.Series(['p','y','t','h','o','n'],index =[1,2,3,4,5,6])\n",
    "print(a)"
   ]
  },
  {
   "cell_type": "code",
   "execution_count": 35,
   "metadata": {},
   "outputs": [
    {
     "name": "stdout",
     "output_type": "stream",
     "text": [
      "d       12\n",
      "a       47\n",
      "s        2\n",
      "mory     6\n",
      "dtype: int64\n"
     ]
    }
   ],
   "source": [
    "dict ={\"d\":12,\"a\":47,\"s\":2,\"mory\":6}\n",
    "serie = ps.Series(dict)\n",
    "print(serie)"
   ]
  },
  {
   "cell_type": "code",
   "execution_count": 36,
   "metadata": {},
   "outputs": [
    {
     "name": "stdout",
     "output_type": "stream",
     "text": [
      "   ID           Nom  Taille\n",
      "0   1  diarrassouba     170\n",
      "1   2          mory     180\n",
      "2   3         abdel     130\n"
     ]
    }
   ],
   "source": [
    "import pandas as ps\n",
    "dictdf = {\"ID\":[1,2,3],\n",
    "         \"Nom\":[\"diarrassouba\",\"mory\",\"abdel\"],\n",
    "          \"Taille\":[170,180,130]}\n",
    "df = ps.DataFrame(dictdf)\n",
    "\n",
    "print(df)"
   ]
  },
  {
   "cell_type": "code",
   "execution_count": 37,
   "metadata": {},
   "outputs": [
    {
     "name": "stdout",
     "output_type": "stream",
     "text": [
      "  ID     Nom Age Taille\n",
      "0  1    mory  22    170\n",
      "1  2  diarra  15    120\n",
      "2  3   abdel  78    150\n"
     ]
    }
   ],
   "source": [
    "import pandas as ps\n",
    "import numpy as np\n",
    "tabn = np.array([[1,'mory',22,170],[2,'diarra',15,120],[3,'abdel',78,150]])\n",
    "df = ps.DataFrame(tabn,columns =['ID','Nom','Age','Taille'])\n",
    "print(df)"
   ]
  },
  {
   "cell_type": "code",
   "execution_count": 38,
   "metadata": {},
   "outputs": [
    {
     "data": {
      "text/plain": [
       "'Diarrassouba Mory Abdel Aziz'"
      ]
     },
     "execution_count": 38,
     "metadata": {},
     "output_type": "execute_result"
    }
   ],
   "source": [
    "nom =\"diarrassouba mory abdel aziz\"\n",
    "nom.title()"
   ]
  },
  {
   "cell_type": "code",
   "execution_count": 39,
   "metadata": {},
   "outputs": [
    {
     "data": {
      "text/plain": [
       "'DIARRASSOUBA MORY ABDEL AZIZ'"
      ]
     },
     "execution_count": 39,
     "metadata": {},
     "output_type": "execute_result"
    }
   ],
   "source": [
    "nom.upper()"
   ]
  },
  {
   "cell_type": "code",
   "execution_count": 40,
   "metadata": {},
   "outputs": [
    {
     "data": {
      "text/plain": [
       "2"
      ]
     },
     "execution_count": 40,
     "metadata": {},
     "output_type": "execute_result"
    }
   ],
   "source": [
    "nom.count(\"d\")"
   ]
  },
  {
   "cell_type": "code",
   "execution_count": 41,
   "metadata": {},
   "outputs": [
    {
     "data": {
      "text/plain": [
       "'je suis diarrassouba mory abdel aziz'"
      ]
     },
     "execution_count": 41,
     "metadata": {},
     "output_type": "execute_result"
    }
   ],
   "source": [
    "f\"je suis {nom}\""
   ]
  },
  {
   "cell_type": "code",
   "execution_count": 42,
   "metadata": {},
   "outputs": [
    {
     "data": {
      "text/plain": [
       "'diarrassouba M abdel aziz'"
      ]
     },
     "execution_count": 42,
     "metadata": {},
     "output_type": "execute_result"
    }
   ],
   "source": [
    "nom.replace(\"mory\",\"M\")"
   ]
  },
  {
   "cell_type": "code",
   "execution_count": 43,
   "metadata": {},
   "outputs": [],
   "source": [
    "def bonjour(n):\n",
    "    affiche = f\"Bonjour {n}\"\n",
    "    return affiche"
   ]
  },
  {
   "cell_type": "code",
   "execution_count": 44,
   "metadata": {},
   "outputs": [
    {
     "ename": "NameError",
     "evalue": "name 'mory' is not defined",
     "output_type": "error",
     "traceback": [
      "\u001b[1;31m---------------------------------------------------------------------------\u001b[0m",
      "\u001b[1;31mNameError\u001b[0m                                 Traceback (most recent call last)",
      "\u001b[1;32m<ipython-input-44-02c87fc6908f>\u001b[0m in \u001b[0;36m<module>\u001b[1;34m\u001b[0m\n\u001b[1;32m----> 1\u001b[1;33m \u001b[0mbonjour\u001b[0m\u001b[1;33m(\u001b[0m\u001b[0mmory\u001b[0m\u001b[1;33m)\u001b[0m\u001b[1;33m\u001b[0m\u001b[1;33m\u001b[0m\u001b[0m\n\u001b[0m",
      "\u001b[1;31mNameError\u001b[0m: name 'mory' is not defined"
     ]
    }
   ],
   "source": [
    "bonjour(mory)"
   ]
  },
  {
   "cell_type": "code",
   "execution_count": 45,
   "metadata": {},
   "outputs": [
    {
     "data": {
      "text/plain": [
       "(50, 30)"
      ]
     },
     "execution_count": 45,
     "metadata": {},
     "output_type": "execute_result"
    }
   ],
   "source": [
    "def calcul(a,b):\n",
    "    return (a+b,a-b)\n",
    "calcul(40,10)"
   ]
  },
  {
   "cell_type": "code",
   "execution_count": 46,
   "metadata": {},
   "outputs": [
    {
     "data": {
      "text/plain": [
       "19"
      ]
     },
     "execution_count": 46,
     "metadata": {},
     "output_type": "execute_result"
    }
   ],
   "source": [
    "def add():\n",
    "    liste = [5,8,6]\n",
    "    i = 0\n",
    "    for a in liste:\n",
    "        i+=a\n",
    "    return i\n",
    "add()"
   ]
  },
  {
   "cell_type": "code",
   "execution_count": 49,
   "metadata": {},
   "outputs": [
    {
     "data": {
      "text/plain": [
       "240"
      ]
     },
     "execution_count": 49,
     "metadata": {},
     "output_type": "execute_result"
    }
   ],
   "source": [
    "def multi():\n",
    "    liste = [5,8,6]\n",
    "    i = 1\n",
    "    for a in liste:\n",
    "        i*=a\n",
    "    return i\n",
    "multi()"
   ]
  },
  {
   "cell_type": "code",
   "execution_count": 1,
   "metadata": {},
   "outputs": [
    {
     "name": "stdout",
     "output_type": "stream",
     "text": [
      "Entrer le nombre d'élement que vous voulez : 5\n",
      "Entrer un nombre : 74\n",
      "Entrer un nombre : 56\n",
      "Entrer un nombre : 80\n",
      "Entrer un nombre : 5\n",
      "Entrer un nombre : 9\n",
      "La liste est :  [74, 56, 80, 5, 9]\n",
      "Le maximum est :  80\n"
     ]
    }
   ],
   "source": [
    "nb = int(input(\"Entrer le nombre d'élement que vous voulez : \"))\n",
    "liste = []\n",
    "def saisir(nb,liste):\n",
    "    for i in range(nb):\n",
    "        n = int(input('Entrer un nombre : '))\n",
    "        liste.append(n)\n",
    "    print(\"La liste est : \",liste)\n",
    "    return saisir\n",
    "saisir(nb,liste)\n",
    "    \n",
    "def max(liste):\n",
    "    maxi =liste[0]\n",
    "    for a in liste:\n",
    "        if a>maxi:\n",
    "            maxi=a\n",
    "    print(\"Le maximum est : \",maxi)\n",
    "    \n",
    "max(liste)"
   ]
  },
  {
   "cell_type": "code",
   "execution_count": 35,
   "metadata": {},
   "outputs": [
    {
     "name": "stdout",
     "output_type": "stream",
     "text": [
      "['diarrassouba\\n', 'mory\\n', 'etudiant\\n', 'licence\\n', 'universitÃ©']\n"
     ]
    }
   ],
   "source": [
    "fichier ='test.txt'\n",
    "with open(fichier,'r') as f:\n",
    "    lire =f.readlines()\n",
    "print(lire)"
   ]
  },
  {
   "cell_type": "code",
   "execution_count": 39,
   "metadata": {},
   "outputs": [
    {
     "name": "stdout",
     "output_type": "stream",
     "text": [
      "['diarrassouba', 'mory', 'etudiant', 'licence', 'universitÃ©']\n"
     ]
    }
   ],
   "source": [
    "for index, line in enumerate(lire):\n",
    "    lire[index] = line.replace('\\n','')\n",
    "print(lire)"
   ]
  },
  {
   "cell_type": "code",
   "execution_count": null,
   "metadata": {},
   "outputs": [],
   "source": [
    "nom = lire[0]\n",
    "prenom = lire[1]\n",
    "statut =lire[2]"
   ]
  },
  {
   "cell_type": "code",
   "execution_count": 37,
   "metadata": {},
   "outputs": [
    {
     "name": "stdout",
     "output_type": "stream",
     "text": [
      "Je suis diarrassouba mory etudiant\n"
     ]
    }
   ],
   "source": [
    "afficher =f'Je suis {nom} {prenom} {statut}'\n",
    "print(afficher)"
   ]
  },
  {
   "cell_type": "code",
   "execution_count": 42,
   "metadata": {},
   "outputs": [
    {
     "name": "stdout",
     "output_type": "stream",
     "text": [
      "34\n"
     ]
    }
   ],
   "source": [
    "chemin = f'{nom}.txt'\n",
    "with open(chemin,'w') as f:\n",
    "    ecrit = f.write(afficher)\n",
    "print(ecrit)"
   ]
  },
  {
   "cell_type": "code",
   "execution_count": 43,
   "metadata": {
    "scrolled": true
   },
   "outputs": [
    {
     "name": "stdout",
     "output_type": "stream",
     "text": [
      "Je suis diarrassouba mory etudiant\n"
     ]
    }
   ],
   "source": [
    "with open(chemin,'r') as f:\n",
    "    aff = f.readline()\n",
    "print(aff)"
   ]
  },
  {
   "cell_type": "code",
   "execution_count": 1,
   "metadata": {},
   "outputs": [],
   "source": []
  },
  {
   "cell_type": "code",
   "execution_count": 81,
   "metadata": {},
   "outputs": [],
   "source": [
    "import math\n",
    "class point:\n",
    "    def __init__(self, abs,ord):\n",
    "        self.x = abs\n",
    "        self.y = ord\n",
    "        \n",
    "    def distance(self, autre_point):\n",
    "        dist = (autre_point.x - self.x)**2 + (autre_point.y - self.y)**2\n",
    "        d = math.sqrt(dist)\n",
    "        return d     "
   ]
  },
  {
   "cell_type": "code",
   "execution_count": 90,
   "metadata": {},
   "outputs": [],
   "source": [
    "A= point(4,5)\n",
    "B= point(3,2)"
   ]
  },
  {
   "cell_type": "code",
   "execution_count": 6,
   "metadata": {},
   "outputs": [
    {
     "data": {
      "text/plain": [
       "4"
      ]
     },
     "execution_count": 6,
     "metadata": {},
     "output_type": "execute_result"
    }
   ],
   "source": [
    "A.x"
   ]
  },
  {
   "cell_type": "code",
   "execution_count": 7,
   "metadata": {},
   "outputs": [
    {
     "data": {
      "text/plain": [
       "2"
      ]
     },
     "execution_count": 7,
     "metadata": {},
     "output_type": "execute_result"
    }
   ],
   "source": [
    "B.y"
   ]
  },
  {
   "cell_type": "code",
   "execution_count": 92,
   "metadata": {},
   "outputs": [
    {
     "data": {
      "text/plain": [
       "3.1622776601683795"
      ]
     },
     "execution_count": 92,
     "metadata": {},
     "output_type": "execute_result"
    }
   ],
   "source": [
    "A.distance(B)"
   ]
  },
  {
   "cell_type": "code",
   "execution_count": 93,
   "metadata": {},
   "outputs": [
    {
     "data": {
      "text/plain": [
       "3.1622776601683795"
      ]
     },
     "execution_count": 93,
     "metadata": {},
     "output_type": "execute_result"
    }
   ],
   "source": [
    "B.distance(A)"
   ]
  }
 ],
 "metadata": {
  "kernelspec": {
   "display_name": "Python 3",
   "language": "python",
   "name": "python3"
  },
  "language_info": {
   "codemirror_mode": {
    "name": "ipython",
    "version": 3
   },
   "file_extension": ".py",
   "mimetype": "text/x-python",
   "name": "python",
   "nbconvert_exporter": "python",
   "pygments_lexer": "ipython3",
   "version": "3.7.6"
  }
 },
 "nbformat": 4,
 "nbformat_minor": 4
}
